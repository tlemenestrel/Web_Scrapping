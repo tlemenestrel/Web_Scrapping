{
 "cells": [
  {
   "cell_type": "markdown",
   "metadata": {},
   "source": [
    "## Imports"
   ]
  },
  {
   "cell_type": "code",
   "execution_count": 1,
   "metadata": {},
   "outputs": [],
   "source": [
    "import pandas as pd\n",
    "import numpy as np\n",
    "import matplotlib.pyplot as plt\n",
    "import seaborn as sns\n",
    "%matplotlib inline\n",
    "\n",
    "from urllib.request import urlopen\n",
    "import requests\n",
    "from bs4 import BeautifulSoup"
   ]
  },
  {
   "cell_type": "code",
   "execution_count": 2,
   "metadata": {
    "scrolled": true
   },
   "outputs": [
    {
     "name": "stdout",
     "output_type": "stream",
     "text": [
      "200\n"
     ]
    }
   ],
   "source": [
    "page = requests.get(\"https://www.nike.com/gb/\")\n",
    "print(page.status_code)"
   ]
  },
  {
   "cell_type": "code",
   "execution_count": 3,
   "metadata": {},
   "outputs": [
    {
     "name": "stdout",
     "output_type": "stream",
     "text": [
      "<img alt=\"Avatar\" class=\"hf-avatar-image mr2-sm va-sm-m\" src=\"data:image/gif;base64,R0lGODlhAQABAAD/ACwAAAAAAQABAAACADs%3D\" style=\"display:none\"/>\n",
      "<img alt=\"Avatar\" class=\"hf-avatar-image mr2-sm va-sm-m\" src=\"data:image/gif;base64,R0lGODlhAQABAAD/ACwAAAAAAQABAAACADs%3D\" style=\"display:none\"/>\n",
      "<img alt=\"Flag\" class=\"hf-geomismatch-flag\" height=\"50\" src=\"https://www.nike.com/assets/experience/hf/flags/flags.svg#gb\" width=\"50\"/>\n",
      "<img alt=\"AIR MAX 270 REACT\" class=\"zRhgcWqj\" data-qa=\"image-media-img\" src=\"\"/>\n",
      "<img alt=\"Men's Shoe\" class=\"_363pyMxS\" src=\"https://c.static-nike.com/a/images/f_auto/q_auto/t_PDP_864_v1/jmlzlcunvpl1hx8xbuyf/air-max-270-react-shoe-wKMRxB.jpg\"/>\n",
      "<img alt=\"Women's Shoe\" class=\"_363pyMxS\" src=\"https://c.static-nike.com/a/images/f_auto/q_auto/t_PDP_864_v1/sjbk8znwnrybeg8da10m/air-max-270-react-shoe-Nqf3W0.jpg\"/>\n",
      "<img alt=\"Women's Shoe\" class=\"_363pyMxS\" src=\"https://c.static-nike.com/a/images/f_auto/q_auto/t_PDP_864_v1/qgr00euoj7qofeogkj7s/air-max-270-react-shoe-GtQwwb.jpg\"/>\n",
      "<img alt=\"Men's Shoe\" class=\"_363pyMxS\" src=\"https://c.static-nike.com/a/images/f_auto/q_auto/t_PDP_864_v1/inkzphzthydge5sahm1q/air-max-270-react-shoe-jlGF96.jpg\"/>\n",
      "<img alt=\"Men's Shoe\" class=\"_363pyMxS\" src=\"https://c.static-nike.com/a/images/f_auto/q_auto/t_PDP_864_v1/tva6rfqjrktmbousmceq/air-max-270-react-shoe-jlGF96.jpg\"/>\n",
      "<img alt=\"Men's Shoes\" class=\"_363pyMxS\" src=\"https://c.static-nike.com/a/images/f_auto/q_auto/t_PDP_864_v1/zoxl3cb14axp0hcrfp3r/air-max-270-react-bauhaus-shoes-jlGF96.jpg\"/>\n",
      "<img alt=\"Women's Shoe\" class=\"_363pyMxS\" src=\"https://c.static-nike.com/a/images/f_auto/q_auto/t_PDP_864_v1/houcqwhc0pidb71pdetp/air-max-270-react-shoe-GtQwwb.jpg\"/>\n",
      "<img alt=\"Women's Shoe\" class=\"_363pyMxS\" src=\"https://c.static-nike.com/a/images/f_auto/q_auto/t_PDP_864_v1/erbljiofoqni7kmfqpah/air-max-270-react-shoe-GtQwwb.jpg\"/>\n",
      "<img alt=\"marketing image\" class=\"_125U9bVT\" data-qa=\"image-media-img\" src=\"\"/>\n",
      "<img alt=\"marketing image\" class=\"_125U9bVT\" data-qa=\"image-media-img\" src=\"\"/>\n",
      "<img alt=\"STRONGER WITH SUPPORT\" class=\"_125U9bVT\" data-qa=\"image-media-img\" src=\"\"/>\n",
      "<img alt=\"Football Shirt\" class=\"_363pyMxS\" src=\"https://c.static-nike.com/a/images/f_auto/q_auto/t_PDP_864_v1/q3pdtwqlzxhknm7x5xhc/fc-barcelona-2019-20-stadium-home-football-shirt.jpg\"/>\n",
      "<img alt=\"Men's Shoes\" class=\"_363pyMxS\" src=\"https://c.static-nike.com/a/images/f_auto/q_auto/t_PDP_864_v1/zoxl3cb14axp0hcrfp3r/air-max-270-react-bauhaus-shoes-jlGF96.jpg\"/>\n",
      "<img alt=\"Women's Cropped Tank\" class=\"_363pyMxS\" src=\"https://c.static-nike.com/a/images/f_auto/q_auto/t_PDP_864_v1/sebrr2o9wdxr4t6svuyk/pro-cropped-tank-L2fvQC.jpg\"/>\n",
      "<img alt=\"Women's 2-in-1 Running Shorts\" class=\"_363pyMxS\" src=\"https://c.static-nike.com/a/images/f_auto/q_auto/t_PDP_864_v1/ingnqloqdlrgrhd3qeij/eclipse-2-in-1-running-shorts-8z4SXS.jpg\"/>\n",
      "<img alt=\"Women's Shoe\" class=\"_363pyMxS\" src=\"https://c.static-nike.com/a/images/f_auto/q_auto/t_PDP_864_v1/erbljiofoqni7kmfqpah/air-max-270-react-shoe-GtQwwb.jpg\"/>\n",
      "<img alt=\"Skateboarding Backpack\" class=\"_363pyMxS\" src=\"https://c.static-nike.com/a/images/f_auto/q_auto/t_PDP_864_v1/ocnlfdxjwcotflq7mpyg/sb-rpm-skateboarding-backpack-moTB3ZMB.jpg\"/>\n",
      "<img alt=\"Men's Shoe\" class=\"_363pyMxS\" src=\"https://c.static-nike.com/a/images/f_auto/q_auto/t_PDP_864_v1/eyxczxtlsy4gl7ruqjyn/air-jordan-legacy-312-low-shoe-nQhmLn.jpg\"/>\n",
      "<img alt=\"Men's Full-Zip Hoodie\" class=\"_363pyMxS\" src=\"https://c.static-nike.com/a/images/f_auto/q_auto/t_PDP_864_v1/o3zyq8lyaezwpwgoicdq/sportswear-tech-fleece-hoodie-D1btrt.jpg\"/>\n",
      "<img alt=\"marketing image\" class=\"_125U9bVT\" data-qa=\"image-media-img\" src=\"\"/>\n",
      "<img alt=\"marketing image\" class=\"_125U9bVT\" data-qa=\"image-media-img\" src=\"\"/>\n",
      "<img alt=\"marketing image\" class=\"_125U9bVT\" data-qa=\"image-media-img\" src=\"\"/>\n",
      "<img alt=\"marketing image\" class=\"_125U9bVT\" data-qa=\"image-media-img\" src=\"\"/>\n",
      "<img src=\"https://www.nike.com/akam/11/pixel_62680050?a=dD1jYjY2MmRlNDg3YTkzNzAzYzkwMDVjYjY4ZDBmMmUwMzg4YjVjZjRjJmpzPW9mZg==\" style=\"visibility: hidden; position: absolute; left: -999px; top: -999px;\"/>\n"
     ]
    }
   ],
   "source": [
    "soup = BeautifulSoup(page.content, 'html5lib')\n",
    "tags = soup.find_all(\"img\")\n",
    "#images = tags['src']\n",
    "#names = tags['alt']\n",
    "\n",
    "print(*tags, sep = \"\\n\") \n",
    "#print(*images, sep = \"\\n\") \n",
    "#print(*names, sep = \"\\n\") \n"
   ]
  },
  {
   "cell_type": "code",
   "execution_count": 4,
   "metadata": {},
   "outputs": [],
   "source": [
    "clothes = pd.DataFrame({\n",
    "\"tags\": tags,\n",
    "})\n",
    "\n",
    "clothes.to_csv(r'⁨iCloud Drive⁩\\⁨Documents⁩\\⁨Startup⁩\\export_panda.csv', index=False) \n",
    "\n",
    "#export_csv = clothes.to_csv('C:\\Users\\thomaslemenestrel\\export_dataframe.csv', index = None, header=True) \n",
    "#Don't forget to add '.csv' at the end of the path\n",
    "\n",
    "\n",
    "#clothes_dataframe_2 = clothes[0].str.split('class', expand=True)\n"
   ]
  }
 ],
 "metadata": {
  "kernelspec": {
   "display_name": "Python 3",
   "language": "python",
   "name": "python3"
  },
  "language_info": {
   "codemirror_mode": {
    "name": "ipython",
    "version": 3
   },
   "file_extension": ".py",
   "mimetype": "text/x-python",
   "name": "python",
   "nbconvert_exporter": "python",
   "pygments_lexer": "ipython3",
   "version": "3.7.1"
  }
 },
 "nbformat": 4,
 "nbformat_minor": 2
}
